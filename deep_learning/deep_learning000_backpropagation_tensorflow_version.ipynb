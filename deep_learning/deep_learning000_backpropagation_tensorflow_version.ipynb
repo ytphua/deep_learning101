{
 "cells": [
  {
   "cell_type": "code",
   "execution_count": 1,
   "metadata": {},
   "outputs": [
    {
     "name": "stdout",
     "output_type": "stream",
     "text": [
      "Python version 3.6.1 |Anaconda custom (64-bit)| (default, May 11 2017, 13:09:58) \n",
      "[GCC 4.4.7 20120313 (Red Hat 4.4.7-1)]\n",
      "Tensorflow version 1.2.1\n",
      "Pandas version 0.20.1\n",
      "Numpy version 1.12.1\n"
     ]
    }
   ],
   "source": [
    "# import libraries\n",
    "import tensorflow as tf\n",
    "import pandas as pd\n",
    "import numpy as np\n",
    "import sys\n",
    "import math\n",
    "%matplotlib inline\n",
    "\n",
    "print('Python version ' + sys.version)\n",
    "print('Tensorflow version ' + tf.VERSION)\n",
    "print('Pandas version ' + pd.__version__)\n",
    "print('Numpy version ' + np.__version__)"
   ]
  },
  {
   "cell_type": "code",
   "execution_count": 2,
   "metadata": {
    "collapsed": true
   },
   "outputs": [],
   "source": [
    "# define the sigmoid function\n",
    "def sigmoid(x, derivative=False):\n",
    "    tmp = tf.constant(1)\n",
    "    if (derivative == True):\n",
    "        return tf.multiply(x, tf.subtract(1,x))\n",
    "    else:\n",
    "        return tf.div(tmp, tf.add(tmp, tf.exp(tf.negative(x))))"
   ]
  },
  {
   "cell_type": "code",
   "execution_count": 3,
   "metadata": {},
   "outputs": [
    {
     "name": "stdout",
     "output_type": "stream",
     "text": [
      "[[0 0 1]\n",
      " [0 1 1]\n",
      " [1 0 0]\n",
      " [1 1 0]\n",
      " [1 0 1]\n",
      " [1 1 1]]\n",
      "[[0]\n",
      " [1]\n",
      " [0]\n",
      " [1]\n",
      " [1]\n",
      " [0]]\n"
     ]
    }
   ],
   "source": [
    "np.random.seed(1)\n",
    "\n",
    "# learning rate\n",
    "alpha = .1\n",
    "\n",
    "# number of nodes in the hidden layer\n",
    "num_hidden = 3\n",
    "\n",
    "# number of iterations of gradient descent\n",
    "num_iterations = 100000\n",
    "\n",
    "# inputs\n",
    "X = np.array([  \n",
    "    [0, 0, 1],\n",
    "    [0, 1, 1],\n",
    "    [1, 0, 0],\n",
    "    [1, 1, 0],\n",
    "    [1, 0, 1],\n",
    "    [1, 1, 1],\n",
    "])\n",
    "\n",
    "print(X)\n",
    "\n",
    "# outputs\n",
    "# x.T is the transpose of x, making this a column vector\n",
    "y = np.array([[0, 1, 0, 1, 1, 0]]).T\n",
    "print(y)"
   ]
  },
  {
   "cell_type": "code",
   "execution_count": 7,
   "metadata": {},
   "outputs": [],
   "source": [
    "# initialize weights randomly with mean 0 and range [-1, 1]\n",
    "# the +1 in the 1st dimension of the weight matrices is for the bias weight\n",
    "hidden_weights = tf.Variable(2*np.random.random((X.shape[1] + 1, num_hidden)) - 1)\n",
    "output_weights = tf.Variable(2*np.random.random((num_hidden + 1, y.shape[1])) - 1)"
   ]
  },
  {
   "cell_type": "code",
   "execution_count": 6,
   "metadata": {},
   "outputs": [
    {
     "name": "stdout",
     "output_type": "stream",
     "text": [
      "[[ 1.  0.  0.  1.]\n",
      " [ 1.  0.  1.  1.]\n",
      " [ 1.  1.  0.  0.]\n",
      " [ 1.  1.  1.  0.]\n",
      " [ 1.  1.  0.  1.]\n",
      " [ 1.  1.  1.  1.]]\n"
     ]
    }
   ],
   "source": [
    "# forward phase\n",
    "# np.hstack((np.ones(...), X) adds a fixed input of 1 for the bias weight\n",
    "input_layer_outputs = tf.Variable(np.hstack((np.ones((X.shape[0], 1)), X)))\n",
    "hidden_layer_outputs = tf.Variable(np.hstack((np.ones((X.shape[0], 1)), sigmoid(tf.matmul(input_layer_outputs, tf.transpose(hidden_weights)))))\n",
    "output_layer_outputs = tf.Variable(tf.matmul(hidden_layer_outputs, tf.transpose(output_weights)))\n",
    "\n",
    "# backward phase\n",
    "# output layer error term\n",
    "output_error = output_layer_outputs - y\n",
    "# hidden layer error term\n",
    "# [:, 1:] removes the bias term from the backpropagation\n",
    "hidden_error = hidden_layer_outputs[:, 1:] * (1 - hidden_layer_outputs[:, 1:]) * np.dot(output_error, output_weights.T[:, 1:])\n",
    "\n",
    "# partial derivatives\n",
    "hidden_pd = input_layer_outputs[:, :, np.newaxis] * hidden_error[: , np.newaxis, :]\n",
    "output_pd = hidden_layer_outputs[:, :, np.newaxis] * output_error[:, np.newaxis, :]\n",
    "\n",
    "# average for total gradients\n",
    "total_hidden_gradient = np.average(hidden_pd, axis=0)\n",
    "total_output_gradient = np.average(output_pd, axis=0)\n",
    "\n",
    "# update weights\n",
    "hidden_weights += - alpha * total_hidden_gradient\n",
    "output_weights += - alpha * total_output_gradient"
   ]
  },
  {
   "cell_type": "code",
   "execution_count": null,
   "metadata": {
    "collapsed": true
   },
   "outputs": [],
   "source": []
  }
 ],
 "metadata": {
  "kernelspec": {
   "display_name": "Python 3",
   "language": "python",
   "name": "python3"
  },
  "language_info": {
   "codemirror_mode": {
    "name": "ipython",
    "version": 3
   },
   "file_extension": ".py",
   "mimetype": "text/x-python",
   "name": "python",
   "nbconvert_exporter": "python",
   "pygments_lexer": "ipython3",
   "version": "3.6.1"
  }
 },
 "nbformat": 4,
 "nbformat_minor": 2
}
