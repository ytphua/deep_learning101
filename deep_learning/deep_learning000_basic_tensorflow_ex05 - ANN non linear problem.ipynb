{
 "cells": [
  {
   "cell_type": "markdown",
   "metadata": {},
   "source": [
    "Activation Functions allow your NN to model non linear problems. All of your NNs in the previous lessons have NOT had an activation function and will not do well with non linear datasets.\n",
    "\n",
    "What are some of the common activation functions?\n",
    "- Sigmoid\n",
    "- Tanh\n",
    "- ReLU (most popular)"
   ]
  },
  {
   "cell_type": "code",
   "execution_count": 1,
   "metadata": {},
   "outputs": [
    {
     "name": "stdout",
     "output_type": "stream",
     "text": [
      "Python version 3.6.1 |Anaconda custom (64-bit)| (default, May 11 2017, 13:09:58) \n",
      "[GCC 4.4.7 20120313 (Red Hat 4.4.7-1)]\n",
      "Tensorflow version 1.2.1\n",
      "Pandas version 0.20.1\n",
      "Numpy version 1.12.1\n"
     ]
    }
   ],
   "source": [
    "# import libraries\n",
    "import tensorflow as tf\n",
    "import pandas as pd\n",
    "import numpy as np\n",
    "import sys\n",
    "import datetime\n",
    "import matplotlib.pyplot as plt\n",
    "plt.style.use('ggplot') # use this plot style\n",
    "%matplotlib inline\n",
    "\n",
    "print('Python version ' + sys.version)\n",
    "print('Tensorflow version ' + tf.VERSION)\n",
    "print('Pandas version ' + pd.__version__)\n",
    "print('Numpy version ' + np.__version__)"
   ]
  },
  {
   "cell_type": "code",
   "execution_count": 2,
   "metadata": {},
   "outputs": [
    {
     "name": "stdout",
     "output_type": "stream",
     "text": [
      "Testing data points: (150, 1)\n",
      "Training data points: (850, 1)\n"
     ]
    }
   ],
   "source": [
    "# Function to model\n",
    "\n",
    "# y = a * x^2 + b * x + c  \n",
    "\n",
    "# Let's generate 1000 random samples\n",
    "pool = np.random.rand(1000,1).astype(np.float32)\n",
    "\n",
    "# Shuffle the samples\n",
    "np.random.shuffle(pool)\n",
    "\n",
    "# sample size of 15%\n",
    "sample = int(1000 * 0.15)\n",
    "\n",
    "# 15% test\n",
    "test_x = pool[0:sample]\n",
    "\n",
    "# 85% training\n",
    "train_x = pool[sample:]\n",
    "\n",
    "print('Testing data points: ' + str(test_x.shape))\n",
    "print('Training data points: ' + str(train_x.shape))\n",
    "\n",
    "# Let's compute the ouput using 2 for a, 3 for b, and 5 for c\n",
    "test_y = 2.0 * test_x**2 + 3.0 * test_x + 5\n",
    "train_y = 2.0 * train_x**2 + 3.0 * train_x + 5"
   ]
  },
  {
   "cell_type": "code",
   "execution_count": 3,
   "metadata": {},
   "outputs": [
    {
     "data": {
      "text/html": [
       "<div>\n",
       "<style>\n",
       "    .dataframe thead tr:only-child th {\n",
       "        text-align: right;\n",
       "    }\n",
       "\n",
       "    .dataframe thead th {\n",
       "        text-align: left;\n",
       "    }\n",
       "\n",
       "    .dataframe tbody tr th {\n",
       "        vertical-align: top;\n",
       "    }\n",
       "</style>\n",
       "<table border=\"1\" class=\"dataframe\">\n",
       "  <thead>\n",
       "    <tr style=\"text-align: right;\">\n",
       "      <th></th>\n",
       "      <th>x</th>\n",
       "      <th>y</th>\n",
       "    </tr>\n",
       "  </thead>\n",
       "  <tbody>\n",
       "    <tr>\n",
       "      <th>0</th>\n",
       "      <td>0.512056</td>\n",
       "      <td>7.060572</td>\n",
       "    </tr>\n",
       "    <tr>\n",
       "      <th>1</th>\n",
       "      <td>0.296044</td>\n",
       "      <td>6.063416</td>\n",
       "    </tr>\n",
       "    <tr>\n",
       "      <th>2</th>\n",
       "      <td>0.548350</td>\n",
       "      <td>7.246425</td>\n",
       "    </tr>\n",
       "    <tr>\n",
       "      <th>3</th>\n",
       "      <td>0.150114</td>\n",
       "      <td>5.495410</td>\n",
       "    </tr>\n",
       "    <tr>\n",
       "      <th>4</th>\n",
       "      <td>0.518695</td>\n",
       "      <td>7.094176</td>\n",
       "    </tr>\n",
       "  </tbody>\n",
       "</table>\n",
       "</div>"
      ],
      "text/plain": [
       "          x         y\n",
       "0  0.512056  7.060572\n",
       "1  0.296044  6.063416\n",
       "2  0.548350  7.246425\n",
       "3  0.150114  5.495410\n",
       "4  0.518695  7.094176"
      ]
     },
     "execution_count": 3,
     "metadata": {},
     "output_type": "execute_result"
    }
   ],
   "source": [
    "df = pd.DataFrame({'x':train_x[:,0],\n",
    "                   'y':train_y[:,0]})\n",
    "df.head()"
   ]
  },
  {
   "cell_type": "code",
   "execution_count": 4,
   "metadata": {},
   "outputs": [
    {
     "data": {
      "text/html": [
       "<div>\n",
       "<style>\n",
       "    .dataframe thead tr:only-child th {\n",
       "        text-align: right;\n",
       "    }\n",
       "\n",
       "    .dataframe thead th {\n",
       "        text-align: left;\n",
       "    }\n",
       "\n",
       "    .dataframe tbody tr th {\n",
       "        vertical-align: top;\n",
       "    }\n",
       "</style>\n",
       "<table border=\"1\" class=\"dataframe\">\n",
       "  <thead>\n",
       "    <tr style=\"text-align: right;\">\n",
       "      <th></th>\n",
       "      <th>x</th>\n",
       "      <th>y</th>\n",
       "    </tr>\n",
       "  </thead>\n",
       "  <tbody>\n",
       "    <tr>\n",
       "      <th>count</th>\n",
       "      <td>850.000000</td>\n",
       "      <td>850.000000</td>\n",
       "    </tr>\n",
       "    <tr>\n",
       "      <th>mean</th>\n",
       "      <td>0.497739</td>\n",
       "      <td>7.149677</td>\n",
       "    </tr>\n",
       "    <tr>\n",
       "      <th>std</th>\n",
       "      <td>0.283867</td>\n",
       "      <td>1.429380</td>\n",
       "    </tr>\n",
       "    <tr>\n",
       "      <th>min</th>\n",
       "      <td>0.000282</td>\n",
       "      <td>5.000845</td>\n",
       "    </tr>\n",
       "    <tr>\n",
       "      <th>25%</th>\n",
       "      <td>0.260620</td>\n",
       "      <td>5.917708</td>\n",
       "    </tr>\n",
       "    <tr>\n",
       "      <th>50%</th>\n",
       "      <td>0.485233</td>\n",
       "      <td>6.926602</td>\n",
       "    </tr>\n",
       "    <tr>\n",
       "      <th>75%</th>\n",
       "      <td>0.744999</td>\n",
       "      <td>8.345045</td>\n",
       "    </tr>\n",
       "    <tr>\n",
       "      <th>max</th>\n",
       "      <td>0.998881</td>\n",
       "      <td>9.992168</td>\n",
       "    </tr>\n",
       "  </tbody>\n",
       "</table>\n",
       "</div>"
      ],
      "text/plain": [
       "                x           y\n",
       "count  850.000000  850.000000\n",
       "mean     0.497739    7.149677\n",
       "std      0.283867    1.429380\n",
       "min      0.000282    5.000845\n",
       "25%      0.260620    5.917708\n",
       "50%      0.485233    6.926602\n",
       "75%      0.744999    8.345045\n",
       "max      0.998881    9.992168"
      ]
     },
     "execution_count": 4,
     "metadata": {},
     "output_type": "execute_result"
    }
   ],
   "source": [
    "df.describe()"
   ]
  },
  {
   "cell_type": "code",
   "execution_count": 5,
   "metadata": {},
   "outputs": [
    {
     "data": {
      "image/png": "[encoded data removed]",
      "text/plain": [
       "<matplotlib.figure.Figure at 0x7f275a3520b8>"
      ]
     },
     "metadata": {},
     "output_type": "display_data"
    }
   ],
   "source": [
    "df.plot.scatter(x='x', y='y', figsize=(15,5));"
   ]
  },
  {
   "cell_type": "code",
   "execution_count": 6,
   "metadata": {},
   "outputs": [
    {
     "name": "stdout",
     "output_type": "stream",
     "text": [
      "shape of x and y:\n",
      "(?, 1) (?, 1)\n"
     ]
    }
   ],
   "source": [
    "# you can adjust the number of neurons in the hidden layer here\n",
    "hidden_size = 1\n",
    "\n",
    "# placeholders\n",
    "# shape=[how many samples do you have, how many input neurons]\n",
    "x = tf.placeholder(tf.float32, shape=[None, 1], name=\"01_x\")\n",
    "y = tf.placeholder(tf.float32, shape=[None, 1], name=\"01_y\")\n",
    "\n",
    "print(\"shape of x and y:\")\n",
    "print(x.get_shape(),y.get_shape())"
   ]
  },
  {
   "cell_type": "code",
   "execution_count": 7,
   "metadata": {},
   "outputs": [
    {
     "name": "stdout",
     "output_type": "stream",
     "text": [
      "shape of hidden layer:\n",
      "(?, 1)\n"
     ]
    }
   ],
   "source": [
    "# create your first hidden layer!\n",
    "# tf.truncated_normal([how many samples do you have, size of output layer])\n",
    "W1 = tf.Variable(tf.truncated_normal([1, hidden_size], mean=0.1, stddev=0.1), name=\"w1\")\n",
    "\n",
    "# tf.truncated_normal([size of output layer])\n",
    "b1 = tf.Variable(tf.truncated_normal([hidden_size], mean=0.1, stddev=0.1), name=\"b1\")\n",
    "\n",
    "# shape of h1 = [size of your samples, size of output layer]\n",
    "h1 = tf.nn.relu(tf.matmul(x, W1) + b1, name=\"h1\")\n",
    "\n",
    "print(\"shape of hidden layer:\")\n",
    "print(h1.get_shape())"
   ]
  },
  {
   "cell_type": "code",
   "execution_count": 8,
   "metadata": {},
   "outputs": [
    {
     "name": "stdout",
     "output_type": "stream",
     "text": [
      "shape of output layer:\n",
      "(?, 1)\n"
     ]
    }
   ],
   "source": [
    "# Output Layer\n",
    "W = tf.Variable(tf.truncated_normal([hidden_size, 1], mean=0.1, stddev=0.1), name=\"w\")\n",
    "b = tf.Variable(tf.truncated_normal([1], mean=0.1, stddev=0.1), name=\"b\")\n",
    "\n",
    "# note that the input comes from our hidden layer h1\n",
    "pred = tf.nn.relu(tf.matmul(h1, W) + b)\n",
    "\n",
    "print(\"shape of output layer:\")\n",
    "print(pred.get_shape())"
   ]
  },
  {
   "cell_type": "code",
   "execution_count": 9,
   "metadata": {
    "collapsed": true
   },
   "outputs": [],
   "source": [
    "# minimize the mean squared errors.\n",
    "loss = tf.reduce_mean(tf.square(pred - y))\n",
    "\n",
    "# pick optimizer\n",
    "optimizer = tf.train.GradientDescentOptimizer(0.09)\n",
    "train = optimizer.minimize(loss)\n",
    "\n",
    "# check accuracy of model\n",
    "correct_prediction = tf.equal(tf.round(pred), tf.round(y))\n",
    "accuracy = tf.reduce_mean(tf.cast(correct_prediction, tf.float32))"
   ]
  },
  {
   "cell_type": "code",
   "execution_count": 19,
   "metadata": {},
   "outputs": [
    {
     "name": "stdout",
     "output_type": "stream",
     "text": [
      "Training loss at step 0: 49.841778\n",
      "Training loss at step 500: 0.021844\n",
      "Training loss at step 1000: 0.021844\n",
      "Training loss at step 1500: 0.021844\n",
      "Training loss at step 2000: 0.021844\n",
      "Training loss at step 2500: 0.021844\n",
      "Training loss at step 3000: 0.021844\n",
      "Training loss at step 3500: 0.021844\n",
      "Training loss at step 4000: 0.021844\n",
      "Training loss at step 4500: 0.021844\n",
      "Accuracy on the Training Set: 0.876471\n",
      "Accuracy on the Test Set: 0.86\n"
     ]
    }
   ],
   "source": [
    "# initialize the variables\n",
    "init = tf.global_variables_initializer()\n",
    "\n",
    "# hold step and error values\n",
    "t = []\n",
    "\n",
    "# Run your graph\n",
    "with tf.Session() as sess:\n",
    "    \n",
    "    # initialize variables\n",
    "    sess.run(init)\n",
    "\n",
    "    # Fit the function.\n",
    "    for step in range(5000):\n",
    "\n",
    "        # get your data\n",
    "        train_data = {x:train_x, y:train_y}\n",
    "        test_data = {x:test_x, y:test_y}\n",
    "        \n",
    "        # training in progress...\n",
    "        train_loss, train_pred = sess.run([loss, train], feed_dict=train_data)        \n",
    "        \n",
    "        # print every n iterations\n",
    "        if step%500==0:\n",
    "           \n",
    "            # capture the step and error for analysis\n",
    "            t.append((step, train_loss))    \n",
    "            \n",
    "            # get snapshot of current training accuracy       \n",
    "            train_acc = accuracy.eval(train_data)            \n",
    "                \n",
    "            print(\"Training loss at step %d: %f\" % (step, train_loss))                              \n",
    "            \n",
    "    # here is where you see how good of a Data Scientist you are        \n",
    "    print(\"Accuracy on the Training Set:\", accuracy.eval(train_data) )\n",
    "    print(\"Accuracy on the Test Set:\", accuracy.eval(test_data) )\n",
    "    \n",
    "    # capture predictions on test data \n",
    "    test_results = sess.run(pred, feed_dict={x:test_x})  \n",
    "    df_final = pd.DataFrame({'test_x':test_x[:,0],\n",
    "                             'pred':test_results[:,0]})\n",
    "    \n",
    "    # capture training and validation loss\n",
    "    df_loss = pd.DataFrame(t, columns=['step', 'train_loss'])  "
   ]
  },
  {
   "cell_type": "code",
   "execution_count": 15,
   "metadata": {},
   "outputs": [
    {
     "data": {
      "image/png": "[encoded data removed]",
      "text/plain": [
       "<matplotlib.figure.Figure at 0x7f27246d6748>"
      ]
     },
     "metadata": {},
     "output_type": "display_data"
    }
   ],
   "source": [
    "fig, axes = plt.subplots(nrows=1, ncols=1, figsize=(15, 5))\n",
    "\n",
    "# Chart 1 - Shows the line we are trying to model\n",
    "df.plot.scatter(x='x', y='y', ax=axes, color='red')\n",
    "\n",
    "# Chart 2 - Shows the line our trained model came up with\n",
    "df_final.plot.scatter(x='test_x', y='pred', ax=axes, alpha=0.3)\n",
    "\n",
    "# add a little sugar\n",
    "axes.set_title('target vs pred', fontsize=20)\n",
    "axes.set_ylabel('y', fontsize=15)\n",
    "axes.set_xlabel('x', fontsize=15)\n",
    "axes.legend([\"target\", \"pred\"], loc='best');"
   ]
  },
  {
   "cell_type": "code",
   "execution_count": 16,
   "metadata": {},
   "outputs": [
    {
     "data": {
      "image/png": "[encoded data removed]",
      "text/plain": [
       "<matplotlib.figure.Figure at 0x7f2756db3f28>"
      ]
     },
     "metadata": {},
     "output_type": "display_data"
    }
   ],
   "source": [
    "df_loss.set_index('step').plot(logy=True, figsize=(15,5));"
   ]
  },
  {
   "cell_type": "code",
   "execution_count": 20,
   "metadata": {},
   "outputs": [
    {
     "name": "stdout",
     "output_type": "stream",
     "text": [
      "shape of x and y:\n",
      "(?, 1) (?, 1)\n",
      "shape of hidden layer:\n",
      "(?, 1)\n",
      "shape of output layer:\n",
      "(?, 1)\n",
      "Training loss at step 0: 51.607700\n",
      "Training loss at step 500: 0.022836\n",
      "Training loss at step 1000: 0.021844\n",
      "Training loss at step 1500: 0.021844\n",
      "Training loss at step 2000: 0.021844\n",
      "Training loss at step 2500: 0.021844\n",
      "Training loss at step 3000: 0.021844\n",
      "Training loss at step 3500: 0.021844\n",
      "Training loss at step 4000: 0.021844\n",
      "Training loss at step 4500: 0.021844\n",
      "Accuracy on the Training Set: 0.876471\n",
      "Accuracy on the Test Set: 0.86\n"
     ]
    },
    {
     "data": {
      "text/plain": [
       "<matplotlib.text.Text at 0x7f27245dbba8>"
      ]
     },
     "execution_count": 20,
     "metadata": {},
     "output_type": "execute_result"
    },
    {
     "data": {
      "image/png": "[encoded data removed]",
      "text/plain": [
       "<matplotlib.figure.Figure at 0x7f2724625860>"
      ]
     },
     "metadata": {},
     "output_type": "display_data"
    },
    {
     "data": {
      "image/png": "[encoded data removed]",
      "text/plain": [
       "<matplotlib.figure.Figure at 0x7f272469f320>"
      ]
     },
     "metadata": {},
     "output_type": "display_data"
    }
   ],
   "source": [
    "# you can adjust the number of neurons in the hidden layer here\n",
    "hidden_size = 1\n",
    "\n",
    "# placeholders\n",
    "# shape=[how many samples do you have, how many input neurons]\n",
    "x = tf.placeholder(tf.float32, shape=[None, 1], name=\"01_x\")\n",
    "y = tf.placeholder(tf.float32, shape=[None, 1], name=\"01_y\")\n",
    "\n",
    "print(\"shape of x and y:\")\n",
    "print(x.get_shape(),y.get_shape())\n",
    "\n",
    "# create your first hidden layer!\n",
    "# tf.truncated_normal([how many samples do you have, size of output layer])\n",
    "W1 = tf.Variable(tf.truncated_normal([1, hidden_size], mean=0.1, stddev=0.1), name=\"w1\")\n",
    "\n",
    "# tf.truncated_normal([size of output layer])\n",
    "b1 = tf.Variable(tf.truncated_normal([hidden_size], mean=0.1, stddev=0.1), name=\"b1\")\n",
    "\n",
    "# shape of h1 = [size of your samples, size of output layer]\n",
    "h1 = tf.nn.relu(tf.matmul(x, W1) + b1, name=\"h1\")\n",
    "\n",
    "print(\"shape of hidden layer:\")\n",
    "print(h1.get_shape())\n",
    "\n",
    "# Output Layer\n",
    "W = tf.Variable(tf.truncated_normal([hidden_size, 1], mean=0.1, stddev=0.1), name=\"w\")\n",
    "b = tf.Variable(tf.truncated_normal([1], mean=0.1, stddev=0.1), name=\"b\")\n",
    "\n",
    "# note that the input comes from our hidden layer h1\n",
    "pred = tf.nn.relu(tf.matmul(h1, W) + b)\n",
    "\n",
    "print(\"shape of output layer:\")\n",
    "print(pred.get_shape())\n",
    "\n",
    "# minimize the mean squared errors.\n",
    "loss = tf.reduce_mean(tf.square(pred - y))\n",
    "\n",
    "# pick optimizer\n",
    "optimizer = tf.train.GradientDescentOptimizer(0.09)\n",
    "train = optimizer.minimize(loss)\n",
    "\n",
    "# check accuracy of model\n",
    "correct_prediction = tf.equal(tf.round(pred), tf.round(y))\n",
    "accuracy = tf.reduce_mean(tf.cast(correct_prediction, tf.float32))\n",
    "# initialize the variables\n",
    "init = tf.global_variables_initializer()\n",
    "\n",
    "# hold step and error values\n",
    "t = []\n",
    "\n",
    "# Run your graph\n",
    "with tf.Session() as sess:\n",
    "    \n",
    "    # initialize variables\n",
    "    sess.run(init)\n",
    "\n",
    "    # Fit the function.\n",
    "    for step in range(5000):\n",
    "\n",
    "        # get your data\n",
    "        train_data = {x:train_x, y:train_y}\n",
    "        test_data = {x:test_x, y:test_y}\n",
    "        \n",
    "        # training in progress...\n",
    "        train_loss, train_pred = sess.run([loss, train], feed_dict=train_data)        \n",
    "        \n",
    "        # print every n iterations\n",
    "        if step%500==0:\n",
    "           \n",
    "            # capture the step and error for analysis\n",
    "            t.append((step, train_loss))    \n",
    "            \n",
    "            # get snapshot of current training accuracy       \n",
    "            train_acc = accuracy.eval(train_data)            \n",
    "                \n",
    "            print(\"Training loss at step %d: %f\" % (step, train_loss))                              \n",
    "            \n",
    "    # here is where you see how good of a Data Scientist you are        \n",
    "    print(\"Accuracy on the Training Set:\", accuracy.eval(train_data) )\n",
    "    print(\"Accuracy on the Test Set:\", accuracy.eval(test_data) )\n",
    "    \n",
    "    # capture predictions on test data \n",
    "    test_results = sess.run(pred, feed_dict={x:test_x})  \n",
    "    df_final = pd.DataFrame({'test_x':test_x[:,0],\n",
    "                             'pred':test_results[:,0]})\n",
    "    \n",
    "    # capture training and validation loss\n",
    "    df_loss = pd.DataFrame(t, columns=['step', 'train_loss'])  \n",
    "\n",
    "fig, axes = plt.subplots(nrows=1, ncols=1, figsize=(15, 5))\n",
    "\n",
    "# Chart 1 - Shows the line we are trying to model\n",
    "df.plot.scatter(x='x', y='y', ax=axes, color='red')\n",
    "\n",
    "# Chart 2 - Shows the line our trained model came up with\n",
    "df_final.plot.scatter(x='test_x', y='pred', ax=axes, alpha=0.3)\n",
    "# add a info to plot\n",
    "axes.set_title('target vs pred', fontsize=20)\n",
    "axes.set_ylabel('y', fontsize=15)\n",
    "axes.set_xlabel('x', fontsize=15)\n",
    "axes.legend([\"target\", \"pred\"], loc='best');\n",
    "\n",
    "df_loss.set_index('step').plot(logy=True, figsize=(15,5))\n",
    "# add a info to plot\n",
    "axes.set_title('loss', fontsize=20)"
   ]
  },
  {
   "cell_type": "code",
   "execution_count": null,
   "metadata": {
    "collapsed": true
   },
   "outputs": [],
   "source": []
  },
  {
   "cell_type": "code",
   "execution_count": null,
   "metadata": {
    "collapsed": true
   },
   "outputs": [],
   "source": []
  }
 ],
 "metadata": {
  "kernelspec": {
   "display_name": "Python 3",
   "language": "python",
   "name": "python3"
  },
  "language_info": {
   "codemirror_mode": {
    "name": "ipython",
    "version": 3
   },
   "file_extension": ".py",
   "mimetype": "text/x-python",
   "name": "python",
   "nbconvert_exporter": "python",
   "pygments_lexer": "ipython3",
   "version": "3.6.1"
  }
 },
 "nbformat": 4,
 "nbformat_minor": 2
}
