{
 "cells": [
  {
   "cell_type": "code",
   "execution_count": 1,
   "metadata": {
    "collapsed": true
   },
   "outputs": [],
   "source": [
    "#matplotlib inline\n",
    "import numpy as np\n",
    "import pandas as pd\n",
    "from sklearn.utils import shuffle\n",
    "import matplotlib.pyplot as plt"
   ]
  },
  {
   "cell_type": "code",
   "execution_count": 2,
   "metadata": {
    "collapsed": true
   },
   "outputs": [],
   "source": [
    "def get_data():\n",
    "    df = pd.read_csv('ecommerce_data.csv')\n",
    "    data = df.as_matrix()\n",
    "    \n",
    "    X = data[:, :-1] #extract data X\n",
    "    Y = data[:, -1] #extract data Y\n",
    "    \n",
    "    # normalize columns 1 and 2\n",
    "    X[:,1] = (X[:,1] - X[:,1].mean()) / X[:,1].std()\n",
    "    X[:,2] = (X[:,2] - X[:,2].mean()) / X[:,2].std()\n",
    "\n",
    "    # create a new matrix X2 with the correct number of columns\n",
    "    N, D = X.shape\n",
    "    X2 = np.zeros((N, D+3))\n",
    "    X2[:,0:(D-1)] = X[:,0:(D-1)] # non-categorical\n",
    "\n",
    "    # one-hot\n",
    "    for n in range(N):\n",
    "        t = int(X[n,D-1])\n",
    "        X2[n,t+D-1] = 1\n",
    "\n",
    "    # method 2\n",
    "    # Z = np.zeros((N, 4))\n",
    "    # Z[np.arange(N), X[:,D-1].astype(np.int32)] = 1\n",
    "    # # assign: X2[:,-4:] = Z\n",
    "    # assert(np.abs(X2[:,-4:] - Z).sum() < 1e-10)\n",
    "\n",
    "    return X2, Y"
   ]
  },
  {
   "cell_type": "code",
   "execution_count": 3,
   "metadata": {
    "collapsed": true
   },
   "outputs": [],
   "source": [
    "def get_binary_data():\n",
    "    # return only the data from the first 2 classes\n",
    "    X, Y = get_data()\n",
    "    X2 = X[Y <= 1]\n",
    "    Y2 = Y[Y <= 1]\n",
    "    return X2, Y2"
   ]
  },
  {
   "cell_type": "code",
   "execution_count": 4,
   "metadata": {},
   "outputs": [],
   "source": [
    "def y2indicator(y, K):\n",
    "    N = len(y)\n",
    "    ind = np.zeros((N, K))\n",
    "    for i in range(N):\n",
    "        ind[i, y[i]] = 1\n",
    "    return ind"
   ]
  },
  {
   "cell_type": "code",
   "execution_count": 5,
   "metadata": {
    "collapsed": true
   },
   "outputs": [],
   "source": [
    "X, Y = get_data()\n",
    "X, Y = shuffle(X, Y)\n",
    "Y = Y.astype(np.int32)\n",
    "D = X.shape[1]\n",
    "K = len(set(Y))"
   ]
  },
  {
   "cell_type": "code",
   "execution_count": 6,
   "metadata": {},
   "outputs": [],
   "source": [
    "# create train and test sets\n",
    "Xtrain = X[:-100]\n",
    "Ytrain = Y[:-100]\n",
    "Ytrain_ind = y2indicator(Ytrain, K)\n",
    "Xtest = X[-100:]\n",
    "Ytest = Y[-100:]\n",
    "Ytest_ind = y2indicator(Ytest, K)\n",
    "\n",
    "# randomly initialize weights\n",
    "W = np.random.randn(D, K)\n",
    "b = np.zeros(K)"
   ]
  },
  {
   "cell_type": "code",
   "execution_count": 7,
   "metadata": {
    "collapsed": true
   },
   "outputs": [],
   "source": [
    "# make predictions\n",
    "def softmax(a):\n",
    "    expA = np.exp(a)\n",
    "    return expA / expA.sum(axis=1, keepdims=True)\n",
    "\n",
    "def forward(X, W, b):\n",
    "    return softmax(X.dot(W) + b)\n",
    "\n",
    "def predict(P_Y_given_X):\n",
    "    return np.argmax(P_Y_given_X, axis=1)\n",
    "\n",
    "# calculate the accuracy\n",
    "def classification_rate(Y, P):\n",
    "    return np.mean(Y == P)\n",
    "\n",
    "def cross_entropy(T, pY):\n",
    "    return -np.mean(T*np.log(pY))\n"
   ]
  },
  {
   "cell_type": "code",
   "execution_count": 8,
   "metadata": {},
   "outputs": [
    {
     "name": "stdout",
     "output_type": "stream",
     "text": [
      "0 0.632454640189 0.650850090319\n",
      "1000 0.0836584425035 0.112316371286\n",
      "2000 0.0784268430225 0.11418859468\n",
      "3000 0.0762652568582 0.116712539288\n",
      "4000 0.0750462007495 0.119030119758\n",
      "5000 0.0742437867864 0.121083150379\n",
      "6000 0.073665407405 0.122910191716\n",
      "7000 0.0732236428578 0.124553339038\n",
      "8000 0.0728727109985 0.126045853054\n",
      "9000 0.072586007249 0.127412789572\n",
      "Final train classification_rate: 0.92\n",
      "Final test classification_rate: 0.9\n"
     ]
    },
    {
     "data": {
      "image/png": "[encoded data removed]",
      "text/plain": [
       "<matplotlib.figure.Figure at 0x7fbf5e3e3588>"
      ]
     },
     "metadata": {},
     "output_type": "display_data"
    }
   ],
   "source": [
    "# train loop\n",
    "train_costs = []\n",
    "test_costs = []\n",
    "learning_rate = 0.001\n",
    "for i in range(10000):\n",
    "    pYtrain = forward(Xtrain, W, b)\n",
    "    pYtest = forward(Xtest, W, b)\n",
    "\n",
    "    ctrain = cross_entropy(Ytrain_ind, pYtrain)\n",
    "    ctest = cross_entropy(Ytest_ind, pYtest)\n",
    "    train_costs.append(ctrain)\n",
    "    test_costs.append(ctest)\n",
    "\n",
    "    # gradient descent\n",
    "    W -= learning_rate*Xtrain.T.dot(pYtrain - Ytrain_ind)\n",
    "    b -= learning_rate*(pYtrain - Ytrain_ind).sum(axis=0)\n",
    "    if i % 1000 == 0:\n",
    "        print(i, ctrain, ctest)\n",
    "\n",
    "print(\"Final train classification_rate:\", classification_rate(Ytrain, predict(pYtrain)))\n",
    "print(\"Final test classification_rate:\", classification_rate(Ytest, predict(pYtest)))\n",
    "\n",
    "legend1, = plt.plot(train_costs, label='train cost')\n",
    "legend2, = plt.plot(test_costs, label='test cost')\n",
    "plt.legend([legend1, legend2])\n",
    "plt.show()"
   ]
  },
  {
   "cell_type": "code",
   "execution_count": null,
   "metadata": {
    "collapsed": true
   },
   "outputs": [],
   "source": []
  }
 ],
 "metadata": {
  "kernelspec": {
   "display_name": "Python 3",
   "language": "python",
   "name": "python3"
  },
  "language_info": {
   "codemirror_mode": {
    "name": "ipython",
    "version": 3
   },
   "file_extension": ".py",
   "mimetype": "text/x-python",
   "name": "python",
   "nbconvert_exporter": "python",
   "pygments_lexer": "ipython3",
   "version": "3.6.1"
  }
 },
 "nbformat": 4,
 "nbformat_minor": 2
}
