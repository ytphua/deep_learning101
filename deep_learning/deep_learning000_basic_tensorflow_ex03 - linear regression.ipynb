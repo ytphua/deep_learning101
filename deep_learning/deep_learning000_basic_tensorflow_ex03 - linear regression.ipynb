{
 "cells": [
  {
   "cell_type": "markdown",
   "metadata": {},
   "source": [
    "Linear regression"
   ]
  },
  {
   "cell_type": "code",
   "execution_count": 1,
   "metadata": {
    "collapsed": true
   },
   "outputs": [],
   "source": [
    "# import libraries\n",
    "import tensorflow as tf\n",
    "import pandas as pd\n",
    "import numpy as np\n",
    "import matplotlib.pyplot as plt\n",
    "plt.style.use('ggplot') # use this plot style\n",
    "import sys\n",
    "%matplotlib inline"
   ]
  },
  {
   "cell_type": "code",
   "execution_count": 2,
   "metadata": {},
   "outputs": [
    {
     "name": "stdout",
     "output_type": "stream",
     "text": [
      "Python version 3.6.1 |Anaconda custom (64-bit)| (default, May 11 2017, 13:09:58) \n",
      "[GCC 4.4.7 20120313 (Red Hat 4.4.7-1)]\n",
      "Tensorflow version 1.2.1\n",
      "Pandas version 0.20.1\n",
      "Numpy version 1.12.1\n"
     ]
    }
   ],
   "source": [
    "print('Python version ' + sys.version)\n",
    "print('Tensorflow version ' + tf.VERSION)\n",
    "print('Pandas version ' + pd.__version__)\n",
    "print('Numpy version ' + np.__version__)"
   ]
  },
  {
   "cell_type": "code",
   "execution_count": 3,
   "metadata": {},
   "outputs": [
    {
     "data": {
      "text/html": [
       "<div>\n",
       "<style>\n",
       "    .dataframe thead tr:only-child th {\n",
       "        text-align: right;\n",
       "    }\n",
       "\n",
       "    .dataframe thead th {\n",
       "        text-align: left;\n",
       "    }\n",
       "\n",
       "    .dataframe tbody tr th {\n",
       "        vertical-align: top;\n",
       "    }\n",
       "</style>\n",
       "<table border=\"1\" class=\"dataframe\">\n",
       "  <thead>\n",
       "    <tr style=\"text-align: right;\">\n",
       "      <th></th>\n",
       "      <th>x</th>\n",
       "      <th>y</th>\n",
       "    </tr>\n",
       "  </thead>\n",
       "  <tbody>\n",
       "    <tr>\n",
       "      <th>0</th>\n",
       "      <td>0.234574</td>\n",
       "      <td>0.323457</td>\n",
       "    </tr>\n",
       "    <tr>\n",
       "      <th>1</th>\n",
       "      <td>0.693260</td>\n",
       "      <td>0.369326</td>\n",
       "    </tr>\n",
       "    <tr>\n",
       "      <th>2</th>\n",
       "      <td>0.240272</td>\n",
       "      <td>0.324027</td>\n",
       "    </tr>\n",
       "    <tr>\n",
       "      <th>3</th>\n",
       "      <td>0.485490</td>\n",
       "      <td>0.348549</td>\n",
       "    </tr>\n",
       "    <tr>\n",
       "      <th>4</th>\n",
       "      <td>0.226092</td>\n",
       "      <td>0.322609</td>\n",
       "    </tr>\n",
       "  </tbody>\n",
       "</table>\n",
       "</div>"
      ],
      "text/plain": [
       "          x         y\n",
       "0  0.234574  0.323457\n",
       "1  0.693260  0.369326\n",
       "2  0.240272  0.324027\n",
       "3  0.485490  0.348549\n",
       "4  0.226092  0.322609"
      ]
     },
     "execution_count": 3,
     "metadata": {},
     "output_type": "execute_result"
    }
   ],
   "source": [
    "# Create Training Data\n",
    "\n",
    "# y = m * x + b  \n",
    "\n",
    "# let's generate 100 random samples\n",
    "train_x = np.random.rand(100).astype(np.float32)\n",
    "\n",
    "# let's compute train_y using 0.1 for m and 0.3 for b\n",
    "train_y = 0.1 * train_x + 0.3\n",
    "\n",
    "\n",
    "df = pd.DataFrame({'x':train_x,\n",
    "                   'y':train_y})\n",
    "df.head()"
   ]
  },
  {
   "cell_type": "code",
   "execution_count": 4,
   "metadata": {},
   "outputs": [
    {
     "data": {
      "text/html": [
       "<div>\n",
       "<style>\n",
       "    .dataframe thead tr:only-child th {\n",
       "        text-align: right;\n",
       "    }\n",
       "\n",
       "    .dataframe thead th {\n",
       "        text-align: left;\n",
       "    }\n",
       "\n",
       "    .dataframe tbody tr th {\n",
       "        vertical-align: top;\n",
       "    }\n",
       "</style>\n",
       "<table border=\"1\" class=\"dataframe\">\n",
       "  <thead>\n",
       "    <tr style=\"text-align: right;\">\n",
       "      <th></th>\n",
       "      <th>x</th>\n",
       "      <th>y</th>\n",
       "    </tr>\n",
       "  </thead>\n",
       "  <tbody>\n",
       "    <tr>\n",
       "      <th>count</th>\n",
       "      <td>100.000000</td>\n",
       "      <td>100.000000</td>\n",
       "    </tr>\n",
       "    <tr>\n",
       "      <th>mean</th>\n",
       "      <td>0.440815</td>\n",
       "      <td>0.344081</td>\n",
       "    </tr>\n",
       "    <tr>\n",
       "      <th>std</th>\n",
       "      <td>0.294235</td>\n",
       "      <td>0.029423</td>\n",
       "    </tr>\n",
       "    <tr>\n",
       "      <th>min</th>\n",
       "      <td>0.022906</td>\n",
       "      <td>0.302291</td>\n",
       "    </tr>\n",
       "    <tr>\n",
       "      <th>25%</th>\n",
       "      <td>0.191346</td>\n",
       "      <td>0.319135</td>\n",
       "    </tr>\n",
       "    <tr>\n",
       "      <th>50%</th>\n",
       "      <td>0.415893</td>\n",
       "      <td>0.341589</td>\n",
       "    </tr>\n",
       "    <tr>\n",
       "      <th>75%</th>\n",
       "      <td>0.653576</td>\n",
       "      <td>0.365358</td>\n",
       "    </tr>\n",
       "    <tr>\n",
       "      <th>max</th>\n",
       "      <td>0.999277</td>\n",
       "      <td>0.399928</td>\n",
       "    </tr>\n",
       "  </tbody>\n",
       "</table>\n",
       "</div>"
      ],
      "text/plain": [
       "                x           y\n",
       "count  100.000000  100.000000\n",
       "mean     0.440815    0.344081\n",
       "std      0.294235    0.029423\n",
       "min      0.022906    0.302291\n",
       "25%      0.191346    0.319135\n",
       "50%      0.415893    0.341589\n",
       "75%      0.653576    0.365358\n",
       "max      0.999277    0.399928"
      ]
     },
     "execution_count": 4,
     "metadata": {},
     "output_type": "execute_result"
    }
   ],
   "source": [
    "df.describe()"
   ]
  },
  {
   "cell_type": "code",
   "execution_count": 5,
   "metadata": {},
   "outputs": [
    {
     "data": {
      "image/png": "[encoded data removed]",
      "text/plain": [
       "<matplotlib.figure.Figure at 0x7f8995932390>"
      ]
     },
     "metadata": {},
     "output_type": "display_data"
    }
   ],
   "source": [
    "df.plot.scatter(x='x', y='y', figsize=(15,5));"
   ]
  },
  {
   "cell_type": "code",
   "execution_count": 6,
   "metadata": {
    "collapsed": true
   },
   "outputs": [],
   "source": [
    "# create test data\n",
    "\n",
    "# this is the data we are going to use to make sure our model is generating good predictions\n",
    "test_x = np.random.rand(100).astype(np.float32)"
   ]
  },
  {
   "cell_type": "markdown",
   "metadata": {},
   "source": [
    "Model your Graph\n",
    "\n",
    "- loss - There are various functions you can choose to measure the error between train_y (your training data) and pred (your models predicted value)\n",
    "- GradientDescentOptimizer(LEARNING_RATE) - Modify this number to see how your results change\n",
    "\n",
    "Variables\n",
    "When your model runs it will initialize your variables W and b. On every training iteration it will adjust the values for variables W and b. For this to occur, you need to define W and b as variables.\n",
    "\n",
    "- Constants - Values created before you run our model that do not change.\n",
    "- Placeholders - Values that are fed into your model at run time.\n",
    "- Variables - Values that are modified at run time by your model.\n",
    "- W - Weights for your output layer.\n",
    "- b - Biases for your output layer."
   ]
  },
  {
   "cell_type": "code",
   "execution_count": 8,
   "metadata": {},
   "outputs": [],
   "source": [
    "# placeholders\n",
    "x = tf.placeholder(tf.float32, name=\"01_x\")\n",
    "y = tf.placeholder(tf.float32, name=\"01_y\")\n",
    "\n",
    "# variables\n",
    "# Note that np.random.rand() is used to initialize your variables\n",
    "W = tf.Variable(np.random.rand())\n",
    "b = tf.Variable(np.random.rand())\n",
    "pred = tf.multiply(W, x) + b\n",
    "\n",
    "# minimize the mean squared errors\n",
    "# as mentioned above there are other ways to measure the error between train_y and pred\n",
    "loss = tf.reduce_mean(tf.square(pred - y))\n",
    "\n",
    "# we pick our optimizer and a learning rate\n",
    "optimizer = tf.train.GradientDescentOptimizer(0.7)\n",
    "\n",
    "# we train our model by minimizing our loss function\n",
    "train = optimizer.minimize(loss)"
   ]
  },
  {
   "cell_type": "code",
   "execution_count": 9,
   "metadata": {},
   "outputs": [
    {
     "name": "stdout",
     "output_type": "stream",
     "text": [
      "181 0.1 0.3\n",
      "182 0.1 0.3\n",
      "183 0.1 0.3\n",
      "184 0.1 0.3\n",
      "185 0.1 0.3\n",
      "186 0.1 0.3\n",
      "187 0.1 0.3\n",
      "188 0.1 0.3\n",
      "189 0.1 0.3\n",
      "190 0.1 0.3\n",
      "191 0.1 0.3\n",
      "192 0.1 0.3\n",
      "193 0.1 0.3\n",
      "194 0.1 0.3\n",
      "195 0.1 0.3\n",
      "196 0.1 0.3\n",
      "197 0.1 0.3\n",
      "198 0.1 0.3\n",
      "199 0.1 0.3\n",
      "Training completed: W= 0.1 b= 0.3\n"
     ]
    }
   ],
   "source": [
    "# Training\n",
    "\n",
    "# initialize the variables\n",
    "init = tf.global_variables_initializer()\n",
    "\n",
    "# run your graph\n",
    "with tf.Session() as sess:\n",
    "    sess.run(init)\n",
    "\n",
    "    # fit the function.\n",
    "    for step in range(200):\n",
    "        # get your data\n",
    "        train_data = {x:train_x, y:train_y}\n",
    "        \n",
    "        # training in progress...\n",
    "        sess.run(train, feed_dict=train_data)        \n",
    "        \n",
    "        # print the last 20 results\n",
    "        if step > 180:\n",
    "            print(step, sess.run(W), sess.run(b))\n",
    "            \n",
    "    # note that W and b mach the line we are tying to model (y = 0.1x + 0.3)\n",
    "    print(\"Training completed:\", \"W=\", sess.run(W), \"b=\", sess.run(b))\n",
    "    \n",
    "    # run your trained model on the test data set\n",
    "    test_results = sess.run(pred, feed_dict={x: test_x})\n",
    "    \n",
    "    # capture the predicted results so you can plot them\n",
    "    df_final = pd.DataFrame({'test_x':test_x,\n",
    "                             'pred':test_results})"
   ]
  },
  {
   "cell_type": "code",
   "execution_count": 10,
   "metadata": {},
   "outputs": [
    {
     "data": {
      "image/png": "[encoded data removed]",
      "text/plain": [
       "<matplotlib.figure.Figure at 0x7f8992215c88>"
      ]
     },
     "metadata": {},
     "output_type": "display_data"
    }
   ],
   "source": [
    "fig, axes = plt.subplots(nrows=1, ncols=1, figsize=(15, 5))\n",
    "\n",
    "# Chart 1 - Shows the line we are trying to model\n",
    "df.plot.scatter(x='x', y='y', ax=axes, color='red')\n",
    "\n",
    "# Chart 2 - Shows the line our trained model came up with\n",
    "df_final.plot.scatter(x='test_x', y='pred', ax=axes, alpha=0.3)\n",
    "\n",
    "# add a little sugar\n",
    "axes.set_title('target vs pred', fontsize=20)\n",
    "axes.set_ylabel('y', fontsize=15)\n",
    "axes.set_xlabel('x', fontsize=15);"
   ]
  },
  {
   "cell_type": "code",
   "execution_count": null,
   "metadata": {
    "collapsed": true
   },
   "outputs": [],
   "source": []
  }
 ],
 "metadata": {
  "kernelspec": {
   "display_name": "Python 3",
   "language": "python",
   "name": "python3"
  },
  "language_info": {
   "codemirror_mode": {
    "name": "ipython",
    "version": 3
   },
   "file_extension": ".py",
   "mimetype": "text/x-python",
   "name": "python",
   "nbconvert_exporter": "python",
   "pygments_lexer": "ipython3",
   "version": "3.6.1"
  }
 },
 "nbformat": 4,
 "nbformat_minor": 2
}
