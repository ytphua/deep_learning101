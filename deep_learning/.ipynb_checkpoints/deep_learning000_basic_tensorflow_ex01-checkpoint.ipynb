{
 "cells": [
  {
   "cell_type": "code",
   "execution_count": 1,
   "metadata": {},
   "outputs": [
    {
     "name": "stdout",
     "output_type": "stream",
     "text": [
      "[-1.   -0.98 -0.96 -0.94 -0.92 -0.9  -0.88 -0.86 -0.84 -0.82 -0.8  -0.78\n",
      " -0.76 -0.74 -0.72 -0.7  -0.68 -0.66 -0.64 -0.62 -0.6  -0.58 -0.56 -0.54\n",
      " -0.52 -0.5  -0.48 -0.46 -0.44 -0.42 -0.4  -0.38 -0.36 -0.34 -0.32 -0.3\n",
      " -0.28 -0.26 -0.24 -0.22 -0.2  -0.18 -0.16 -0.14 -0.12 -0.1  -0.08 -0.06\n",
      " -0.04 -0.02  0.    0.02  0.04  0.06  0.08  0.1   0.12  0.14  0.16  0.18\n",
      "  0.2   0.22  0.24  0.26  0.28  0.3   0.32  0.34  0.36  0.38  0.4   0.42\n",
      "  0.44  0.46  0.48  0.5   0.52  0.54  0.56  0.58  0.6   0.62  0.64  0.66\n",
      "  0.68  0.7   0.72  0.74  0.76  0.78  0.8   0.82  0.84  0.86  0.88  0.9\n",
      "  0.92  0.94  0.96  0.98  1.  ]\n",
      "[-2.47580321 -3.23772485 -2.51056274 -3.38601476 -2.52048765 -1.90876977\n",
      " -2.92212613 -2.87430225 -3.22773801 -2.09935642 -2.48150543 -2.09013028\n",
      " -2.03025789 -2.51223993 -2.47523853 -2.04741205 -2.26507951 -1.50461804\n",
      " -1.6222861  -1.66242025 -1.3663802  -1.68367949 -1.65521148 -1.76927432\n",
      " -1.63354837 -1.08554792 -1.18623062 -1.29584165 -0.74461054 -1.45054519\n",
      " -0.60242945 -1.21446968 -1.53383918 -0.72372051 -0.78059428 -0.75783824\n",
      " -0.66475491 -1.97285351 -0.83690446 -0.78379187 -0.43758726 -0.18190172\n",
      "  0.05580601 -0.32606123  0.06906113 -0.50804648  0.55230288  0.27943203\n",
      " -0.32818297 -0.32983308  0.4521345   0.54542076  0.33576448 -0.14242333\n",
      "  0.35348037  0.3728926   0.46987245  0.59478457  0.01975964  0.16438485\n",
      "  1.05400682  1.12310809  0.65278082  0.82287815  1.0611345   0.57541165\n",
      "  0.89183824  1.58624594  1.22608557  0.47779371  1.31484654  1.46240695\n",
      "  1.09357547  1.15201354  0.97661695  1.7980053   2.40133151  2.08913321\n",
      "  1.96386403  1.93335325  1.65107447  1.54367552  1.95186853  2.22502056\n",
      "  1.74316638  1.78910953  1.43639513  2.21742287  1.66313217  1.99682556\n",
      "  2.002432    2.56774204  2.03160651  1.94143923  2.9731572   2.36580711\n",
      "  2.63857175  3.13999148  2.93764139  2.38743596  2.83030846]\n"
     ]
    }
   ],
   "source": [
    "import tensorflow as tf\n",
    "import numpy as np\n",
    "\n",
    "trainX = np.linspace(-1, 1, 101)\n",
    "trainY = 3 * trainX + np.random.randn(*trainX.shape) * 0.33\n",
    "print(trainX)\n",
    "print(trainY)"
   ]
  },
  {
   "cell_type": "code",
   "execution_count": 2,
   "metadata": {
    "collapsed": true
   },
   "outputs": [],
   "source": [
    "X = tf.placeholder(\"float\")\n",
    "Y = tf.placeholder(\"float\")"
   ]
  },
  {
   "cell_type": "code",
   "execution_count": 3,
   "metadata": {
    "collapsed": true
   },
   "outputs": [],
   "source": [
    "w = tf.Variable(0.0, name=\"weights\")\n",
    "y_model = tf.multiply(X, w)\n",
    "\n",
    "cost = (tf.pow(Y-y_model, 2))\n",
    "train_op = tf.train.GradientDescentOptimizer(0.01).minimize(cost)"
   ]
  },
  {
   "cell_type": "code",
   "execution_count": 5,
   "metadata": {},
   "outputs": [
    {
     "name": "stdout",
     "output_type": "stream",
     "text": [
      "2.86756\n"
     ]
    }
   ],
   "source": [
    "init= tf.global_variables_initializer()\n",
    "\n",
    "\n",
    "with tf.Session() as sess:\n",
    "    sess.run(init)\n",
    "    for i in range(100):\n",
    "        for (x, y) in zip(trainX, trainY):\n",
    "            sess.run(train_op, feed_dict={X: x, Y: y})\n",
    "    print(sess.run(w))"
   ]
  },
  {
   "cell_type": "code",
   "execution_count": null,
   "metadata": {
    "collapsed": true
   },
   "outputs": [],
   "source": []
  }
 ],
 "metadata": {
  "kernelspec": {
   "display_name": "Python 3",
   "language": "python",
   "name": "python3"
  },
  "language_info": {
   "codemirror_mode": {
    "name": "ipython",
    "version": 3
   },
   "file_extension": ".py",
   "mimetype": "text/x-python",
   "name": "python",
   "nbconvert_exporter": "python",
   "pygments_lexer": "ipython3",
   "version": "3.6.1"
  }
 },
 "nbformat": 4,
 "nbformat_minor": 2
}
